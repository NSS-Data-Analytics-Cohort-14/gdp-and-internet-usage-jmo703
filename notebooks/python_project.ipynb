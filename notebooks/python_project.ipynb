{
 "cells": [
  {
   "cell_type": "markdown",
   "id": "804ac698-1c61-4830-975d-38d417013034",
   "metadata": {},
   "source": [
    "## This is a example of how you will be doing projects in python.\n",
    "### Use markdown cells -OR- comments in cells to place AT LEAST the question number you are working on. "
   ]
  },
  {
   "cell_type": "markdown",
   "id": "90123210-b670-4d62-bbda-010eeac5dba5",
   "metadata": {},
   "source": [
    "3.\tImport the required packages"
   ]
  },
  {
   "cell_type": "code",
   "execution_count": 40,
   "id": "297b1e92-5e76-4e59-8085-d1ac23ff1c4f",
   "metadata": {},
   "outputs": [],
   "source": [
    "import pandas as pd\n",
    "import numpy as np\n",
    "import matplotlib.pyplot as plt\n",
    "import seaborn as sns"
   ]
  },
  {
   "cell_type": "markdown",
   "id": "3f81942c-9dbe-43e8-90fa-ba3e6be8389a",
   "metadata": {},
   "source": [
    "4. Using the pandas `read_csv()` method, read the GDP dataset into your notebook as a DataFrame called `gdp_df`. Take a look at the first few and last few rows to familiarize yourself with what is contained in this dataset."
   ]
  },
  {
   "cell_type": "code",
   "execution_count": 43,
   "id": "9258fe6d-6afa-462f-8197-c484f97cf4c7",
   "metadata": {},
   "outputs": [],
   "source": [
    "gdp_df = pd.read_csv('../data/gdp_percapita.csv')"
   ]
  },
  {
   "cell_type": "code",
   "execution_count": 45,
   "id": "e581d23c-6373-46ba-a223-a81dbc6662fc",
   "metadata": {},
   "outputs": [
    {
     "data": {
      "text/html": [
       "<div>\n",
       "<style scoped>\n",
       "    .dataframe tbody tr th:only-of-type {\n",
       "        vertical-align: middle;\n",
       "    }\n",
       "\n",
       "    .dataframe tbody tr th {\n",
       "        vertical-align: top;\n",
       "    }\n",
       "\n",
       "    .dataframe thead th {\n",
       "        text-align: right;\n",
       "    }\n",
       "</style>\n",
       "<table border=\"1\" class=\"dataframe\">\n",
       "  <thead>\n",
       "    <tr style=\"text-align: right;\">\n",
       "      <th></th>\n",
       "      <th>Country or Area</th>\n",
       "      <th>Year</th>\n",
       "      <th>Value</th>\n",
       "      <th>Value Footnotes</th>\n",
       "    </tr>\n",
       "  </thead>\n",
       "  <tbody>\n",
       "    <tr>\n",
       "      <th>0</th>\n",
       "      <td>Afghanistan</td>\n",
       "      <td>2023</td>\n",
       "      <td>1992.424394</td>\n",
       "      <td>NaN</td>\n",
       "    </tr>\n",
       "    <tr>\n",
       "      <th>1</th>\n",
       "      <td>Afghanistan</td>\n",
       "      <td>2022</td>\n",
       "      <td>1981.710168</td>\n",
       "      <td>NaN</td>\n",
       "    </tr>\n",
       "    <tr>\n",
       "      <th>2</th>\n",
       "      <td>Afghanistan</td>\n",
       "      <td>2021</td>\n",
       "      <td>2144.166570</td>\n",
       "      <td>NaN</td>\n",
       "    </tr>\n",
       "    <tr>\n",
       "      <th>3</th>\n",
       "      <td>Afghanistan</td>\n",
       "      <td>2020</td>\n",
       "      <td>2769.685745</td>\n",
       "      <td>NaN</td>\n",
       "    </tr>\n",
       "    <tr>\n",
       "      <th>4</th>\n",
       "      <td>Afghanistan</td>\n",
       "      <td>2019</td>\n",
       "      <td>2927.245144</td>\n",
       "      <td>NaN</td>\n",
       "    </tr>\n",
       "  </tbody>\n",
       "</table>\n",
       "</div>"
      ],
      "text/plain": [
       "  Country or Area  Year        Value  Value Footnotes\n",
       "0     Afghanistan  2023  1992.424394              NaN\n",
       "1     Afghanistan  2022  1981.710168              NaN\n",
       "2     Afghanistan  2021  2144.166570              NaN\n",
       "3     Afghanistan  2020  2769.685745              NaN\n",
       "4     Afghanistan  2019  2927.245144              NaN"
      ]
     },
     "execution_count": 45,
     "metadata": {},
     "output_type": "execute_result"
    }
   ],
   "source": [
    "gdp_df.head()"
   ]
  },
  {
   "cell_type": "code",
   "execution_count": 47,
   "id": "c4d93c6e-0dd7-40e0-865f-73259f53bb8a",
   "metadata": {},
   "outputs": [
    {
     "data": {
      "text/html": [
       "<div>\n",
       "<style scoped>\n",
       "    .dataframe tbody tr th:only-of-type {\n",
       "        vertical-align: middle;\n",
       "    }\n",
       "\n",
       "    .dataframe tbody tr th {\n",
       "        vertical-align: top;\n",
       "    }\n",
       "\n",
       "    .dataframe thead th {\n",
       "        text-align: right;\n",
       "    }\n",
       "</style>\n",
       "<table border=\"1\" class=\"dataframe\">\n",
       "  <thead>\n",
       "    <tr style=\"text-align: right;\">\n",
       "      <th></th>\n",
       "      <th>Country or Area</th>\n",
       "      <th>Year</th>\n",
       "      <th>Value</th>\n",
       "      <th>Value Footnotes</th>\n",
       "    </tr>\n",
       "  </thead>\n",
       "  <tbody>\n",
       "    <tr>\n",
       "      <th>8214</th>\n",
       "      <td>Zimbabwe</td>\n",
       "      <td>1994</td>\n",
       "      <td>3965.730986</td>\n",
       "      <td>NaN</td>\n",
       "    </tr>\n",
       "    <tr>\n",
       "      <th>8215</th>\n",
       "      <td>Zimbabwe</td>\n",
       "      <td>1993</td>\n",
       "      <td>3634.750494</td>\n",
       "      <td>NaN</td>\n",
       "    </tr>\n",
       "    <tr>\n",
       "      <th>8216</th>\n",
       "      <td>Zimbabwe</td>\n",
       "      <td>1992</td>\n",
       "      <td>3649.891947</td>\n",
       "      <td>NaN</td>\n",
       "    </tr>\n",
       "    <tr>\n",
       "      <th>8217</th>\n",
       "      <td>Zimbabwe</td>\n",
       "      <td>1991</td>\n",
       "      <td>4126.405247</td>\n",
       "      <td>NaN</td>\n",
       "    </tr>\n",
       "    <tr>\n",
       "      <th>8218</th>\n",
       "      <td>Zimbabwe</td>\n",
       "      <td>1990</td>\n",
       "      <td>4013.299059</td>\n",
       "      <td>NaN</td>\n",
       "    </tr>\n",
       "  </tbody>\n",
       "</table>\n",
       "</div>"
      ],
      "text/plain": [
       "     Country or Area  Year        Value  Value Footnotes\n",
       "8214        Zimbabwe  1994  3965.730986              NaN\n",
       "8215        Zimbabwe  1993  3634.750494              NaN\n",
       "8216        Zimbabwe  1992  3649.891947              NaN\n",
       "8217        Zimbabwe  1991  4126.405247              NaN\n",
       "8218        Zimbabwe  1990  4013.299059              NaN"
      ]
     },
     "execution_count": 47,
     "metadata": {},
     "output_type": "execute_result"
    }
   ],
   "source": [
    "gdp_df.tail()"
   ]
  },
  {
   "cell_type": "markdown",
   "id": "728cd96e-d530-4ddc-a298-b1218d1cdc93",
   "metadata": {},
   "source": [
    "5. How many rows and columns are in `gdp_df`? What are the data types of each column?"
   ]
  },
  {
   "cell_type": "code",
   "execution_count": 50,
   "id": "f14fe0c6-bc1a-4f2b-a736-ffacdfffbe05",
   "metadata": {},
   "outputs": [
    {
     "name": "stdout",
     "output_type": "stream",
     "text": [
      "<class 'pandas.core.frame.DataFrame'>\n",
      "RangeIndex: 8219 entries, 0 to 8218\n",
      "Data columns (total 4 columns):\n",
      " #   Column           Non-Null Count  Dtype  \n",
      "---  ------           --------------  -----  \n",
      " 0   Country or Area  8219 non-null   object \n",
      " 1   Year             8219 non-null   int64  \n",
      " 2   Value            8219 non-null   float64\n",
      " 3   Value Footnotes  0 non-null      float64\n",
      "dtypes: float64(2), int64(1), object(1)\n",
      "memory usage: 257.0+ KB\n"
     ]
    }
   ],
   "source": [
    "gdp_df.info()"
   ]
  },
  {
   "cell_type": "markdown",
   "id": "6cc07c62-1a58-4460-affa-0635d5c2190e",
   "metadata": {},
   "source": [
    "6. Drop the `Value Footnotes` column and rename the remaining three to 'Country', 'Year', and 'GDP_Per_Capita'."
   ]
  },
  {
   "cell_type": "code",
   "execution_count": 53,
   "id": "f03c19b7-84e1-42f7-903d-a18d5c3743f9",
   "metadata": {},
   "outputs": [],
   "source": [
    "renamed_gdp_df=gdp_df.rename(columns={'Country or Area':'Country', 'Year':'Year', 'Value':'GDP_Per-Capita'})"
   ]
  },
  {
   "cell_type": "code",
   "execution_count": 55,
   "id": "30ff3eb8-36b1-4d02-ba89-c2880d55a5a0",
   "metadata": {},
   "outputs": [
    {
     "data": {
      "text/html": [
       "<div>\n",
       "<style scoped>\n",
       "    .dataframe tbody tr th:only-of-type {\n",
       "        vertical-align: middle;\n",
       "    }\n",
       "\n",
       "    .dataframe tbody tr th {\n",
       "        vertical-align: top;\n",
       "    }\n",
       "\n",
       "    .dataframe thead th {\n",
       "        text-align: right;\n",
       "    }\n",
       "</style>\n",
       "<table border=\"1\" class=\"dataframe\">\n",
       "  <thead>\n",
       "    <tr style=\"text-align: right;\">\n",
       "      <th></th>\n",
       "      <th>Country</th>\n",
       "      <th>Year</th>\n",
       "      <th>GDP_Per-Capita</th>\n",
       "      <th>Value Footnotes</th>\n",
       "    </tr>\n",
       "  </thead>\n",
       "  <tbody>\n",
       "    <tr>\n",
       "      <th>0</th>\n",
       "      <td>Afghanistan</td>\n",
       "      <td>2023</td>\n",
       "      <td>1992.424394</td>\n",
       "      <td>NaN</td>\n",
       "    </tr>\n",
       "    <tr>\n",
       "      <th>1</th>\n",
       "      <td>Afghanistan</td>\n",
       "      <td>2022</td>\n",
       "      <td>1981.710168</td>\n",
       "      <td>NaN</td>\n",
       "    </tr>\n",
       "    <tr>\n",
       "      <th>2</th>\n",
       "      <td>Afghanistan</td>\n",
       "      <td>2021</td>\n",
       "      <td>2144.166570</td>\n",
       "      <td>NaN</td>\n",
       "    </tr>\n",
       "    <tr>\n",
       "      <th>3</th>\n",
       "      <td>Afghanistan</td>\n",
       "      <td>2020</td>\n",
       "      <td>2769.685745</td>\n",
       "      <td>NaN</td>\n",
       "    </tr>\n",
       "    <tr>\n",
       "      <th>4</th>\n",
       "      <td>Afghanistan</td>\n",
       "      <td>2019</td>\n",
       "      <td>2927.245144</td>\n",
       "      <td>NaN</td>\n",
       "    </tr>\n",
       "  </tbody>\n",
       "</table>\n",
       "</div>"
      ],
      "text/plain": [
       "       Country  Year  GDP_Per-Capita  Value Footnotes\n",
       "0  Afghanistan  2023     1992.424394              NaN\n",
       "1  Afghanistan  2022     1981.710168              NaN\n",
       "2  Afghanistan  2021     2144.166570              NaN\n",
       "3  Afghanistan  2020     2769.685745              NaN\n",
       "4  Afghanistan  2019     2927.245144              NaN"
      ]
     },
     "execution_count": 55,
     "metadata": {},
     "output_type": "execute_result"
    }
   ],
   "source": [
    "renamed_gdp_df.head()"
   ]
  },
  {
   "cell_type": "code",
   "execution_count": 57,
   "id": "92534803-32f6-44b0-a308-51aba463cdeb",
   "metadata": {},
   "outputs": [],
   "source": [
    "cleaned_gdp_df=renamed_gdp_df.drop('Value Footnotes', axis = 1)"
   ]
  },
  {
   "cell_type": "code",
   "execution_count": 59,
   "id": "5d29844f-846d-4169-94d5-1533a4fc3963",
   "metadata": {},
   "outputs": [
    {
     "data": {
      "text/html": [
       "<div>\n",
       "<style scoped>\n",
       "    .dataframe tbody tr th:only-of-type {\n",
       "        vertical-align: middle;\n",
       "    }\n",
       "\n",
       "    .dataframe tbody tr th {\n",
       "        vertical-align: top;\n",
       "    }\n",
       "\n",
       "    .dataframe thead th {\n",
       "        text-align: right;\n",
       "    }\n",
       "</style>\n",
       "<table border=\"1\" class=\"dataframe\">\n",
       "  <thead>\n",
       "    <tr style=\"text-align: right;\">\n",
       "      <th></th>\n",
       "      <th>Country</th>\n",
       "      <th>Year</th>\n",
       "      <th>GDP_Per-Capita</th>\n",
       "    </tr>\n",
       "  </thead>\n",
       "  <tbody>\n",
       "    <tr>\n",
       "      <th>0</th>\n",
       "      <td>Afghanistan</td>\n",
       "      <td>2023</td>\n",
       "      <td>1992.424394</td>\n",
       "    </tr>\n",
       "    <tr>\n",
       "      <th>1</th>\n",
       "      <td>Afghanistan</td>\n",
       "      <td>2022</td>\n",
       "      <td>1981.710168</td>\n",
       "    </tr>\n",
       "    <tr>\n",
       "      <th>2</th>\n",
       "      <td>Afghanistan</td>\n",
       "      <td>2021</td>\n",
       "      <td>2144.166570</td>\n",
       "    </tr>\n",
       "    <tr>\n",
       "      <th>3</th>\n",
       "      <td>Afghanistan</td>\n",
       "      <td>2020</td>\n",
       "      <td>2769.685745</td>\n",
       "    </tr>\n",
       "    <tr>\n",
       "      <th>4</th>\n",
       "      <td>Afghanistan</td>\n",
       "      <td>2019</td>\n",
       "      <td>2927.245144</td>\n",
       "    </tr>\n",
       "  </tbody>\n",
       "</table>\n",
       "</div>"
      ],
      "text/plain": [
       "       Country  Year  GDP_Per-Capita\n",
       "0  Afghanistan  2023     1992.424394\n",
       "1  Afghanistan  2022     1981.710168\n",
       "2  Afghanistan  2021     2144.166570\n",
       "3  Afghanistan  2020     2769.685745\n",
       "4  Afghanistan  2019     2927.245144"
      ]
     },
     "execution_count": 59,
     "metadata": {},
     "output_type": "execute_result"
    }
   ],
   "source": [
    "cleaned_gdp_df.head()"
   ]
  },
  {
   "cell_type": "markdown",
   "id": "17cb1549-24de-4aff-9bdd-ee8b10a649cb",
   "metadata": {},
   "source": [
    "7. How many countries have data for all years? Which countries are missing many years of data? Look at the number of observations per year. What do you notice?"
   ]
  },
  {
   "cell_type": "code",
   "execution_count": 62,
   "id": "de09135a-b3c7-4a3c-ab30-268782d0ad4d",
   "metadata": {},
   "outputs": [],
   "source": [
    "year_count = cleaned_gdp_df['Country'].value_counts()"
   ]
  },
  {
   "cell_type": "code",
   "execution_count": 64,
   "id": "c0dc091f-ccd6-41d8-af9b-a8d2e14db62e",
   "metadata": {},
   "outputs": [
    {
     "name": "stdout",
     "output_type": "stream",
     "text": [
      "Country\n",
      "Latvia                       34\n",
      "North America                34\n",
      "Mongolia                     34\n",
      "Morocco                      34\n",
      "Mozambique                   34\n",
      "                             ..\n",
      "Faroe Islands                16\n",
      "Kosovo                       16\n",
      "Sint Maarten (Dutch part)    15\n",
      "Turks and Caicos Islands     13\n",
      "Djibouti                     11\n",
      "Name: count, Length: 247, dtype: int64\n"
     ]
    }
   ],
   "source": [
    "print(year_count)"
   ]
  },
  {
   "cell_type": "markdown",
   "id": "0d31ece9-9f3b-4b76-8006-66e8f4112782",
   "metadata": {},
   "source": [
    "8. In this question, you're going to create some plots to show the distribution of GDP per capita for the year 2020. Go to the Python Graph Gallery (https://www.python-graph-gallery.com/) and look at the different types of plots under the Distribution section. Create a histogram, a density plot, a boxplot, and a violin plot. What do you notice when you look at these plots? How do the plots compare and what information can you get out of one type that you can't necessarily get out of the others?"
   ]
  },
  {
   "cell_type": "code",
   "execution_count": 67,
   "id": "65bcc1c1-2e8d-41b6-94c2-e0e1a48c1b4c",
   "metadata": {},
   "outputs": [],
   "source": [
    "twentytwentydf = cleaned_gdp_df[gdp_df['Year']==2020]"
   ]
  },
  {
   "cell_type": "code",
   "execution_count": 69,
   "id": "6e2d89ab-9f99-4b3b-9468-0d75caa72910",
   "metadata": {},
   "outputs": [
    {
     "name": "stdout",
     "output_type": "stream",
     "text": [
      "                          Country  Year  GDP_Per-Capita\n",
      "3                     Afghanistan  2020     2769.685745\n",
      "27    Africa Eastern and Southern  2020     3861.111238\n",
      "61     Africa Western and Central  2020     4622.731427\n",
      "95                        Albania  2020    14650.395929\n",
      "129                       Algeria  2020    14194.155748\n",
      "...                           ...   ...             ...\n",
      "8068               Virgin Islands  2020    45055.782930\n",
      "8090           West Bank and Gaza  2020     5423.682547\n",
      "8120                        World  2020    18600.986362\n",
      "8154                       Zambia  2020     3391.595412\n",
      "8188                     Zimbabwe  2020     2987.269823\n",
      "\n",
      "[247 rows x 3 columns]\n"
     ]
    }
   ],
   "source": [
    "print(twentytwentydf)"
   ]
  },
  {
   "cell_type": "code",
   "execution_count": 71,
   "id": "66046c2f-8c22-4dbf-8d84-be404c6ba5ab",
   "metadata": {},
   "outputs": [
    {
     "data": {
      "text/plain": [
       "<Axes: xlabel='GDP_Per-Capita', ylabel='Count'>"
      ]
     },
     "execution_count": 71,
     "metadata": {},
     "output_type": "execute_result"
    },
    {
     "data": {
      "image/png": "[encoded data removed]",
      "text/plain": [
       "<Figure size 640x480 with 1 Axes>"
      ]
     },
     "metadata": {},
     "output_type": "display_data"
    }
   ],
   "source": [
    "sns.histplot(data=twentytwentydf, x='GDP_Per-Capita')"
   ]
  },
  {
   "cell_type": "code",
   "execution_count": 73,
   "id": "1897387e-6f9c-40b7-a7a2-e69b2612c2e0",
   "metadata": {},
   "outputs": [
    {
     "data": {
      "text/plain": [
       "<Axes: xlabel='GDP_Per-Capita', ylabel='Density'>"
      ]
     },
     "execution_count": 73,
     "metadata": {},
     "output_type": "execute_result"
    },
    {
     "data": {
      "image/png": "[encoded data removed]",
      "text/plain": [
       "<Figure size 640x480 with 1 Axes>"
      ]
     },
     "metadata": {},
     "output_type": "display_data"
    }
   ],
   "source": [
    "sns.kdeplot(data=twentytwentydf,x='GDP_Per-Capita')"
   ]
  },
  {
   "cell_type": "code",
   "execution_count": 75,
   "id": "65492711-fd4d-4a5d-a487-e1aec3dbef74",
   "metadata": {},
   "outputs": [
    {
     "data": {
      "text/plain": [
       "<Axes: xlabel='GDP_Per-Capita'>"
      ]
     },
     "execution_count": 75,
     "metadata": {},
     "output_type": "execute_result"
    },
    {
     "data": {
      "image/png": "[encoded data removed]",
      "text/plain": [
       "<Figure size 640x480 with 1 Axes>"
      ]
     },
     "metadata": {},
     "output_type": "display_data"
    }
   ],
   "source": [
    "sns.boxplot(data=twentytwentydf, x = 'GDP_Per-Capita')"
   ]
  },
  {
   "cell_type": "code",
   "execution_count": 77,
   "id": "1ea2fa21-e372-4813-90eb-eae29154ff04",
   "metadata": {},
   "outputs": [
    {
     "data": {
      "text/plain": [
       "<Axes: xlabel='GDP_Per-Capita'>"
      ]
     },
     "execution_count": 77,
     "metadata": {},
     "output_type": "execute_result"
    },
    {
     "data": {
      "image/png": "[encoded data removed]",
      "text/plain": [
       "<Figure size 640x480 with 1 Axes>"
      ]
     },
     "metadata": {},
     "output_type": "display_data"
    }
   ],
   "source": [
    "sns.violinplot(data=twentytwentydf, x = 'GDP_Per-Capita')"
   ]
  },
  {
   "cell_type": "markdown",
   "id": "2f7df2ea-57ce-4622-9f93-0d9fe872817d",
   "metadata": {},
   "source": [
    "9. What was the median GDP per capita value in 2020?"
   ]
  },
  {
   "cell_type": "code",
   "execution_count": 80,
   "id": "7b7ac98e-c262-4603-8482-3c26e7b5a009",
   "metadata": {},
   "outputs": [],
   "source": [
    "median_twenty_twenty_gdp = twentytwentydf['GDP_Per-Capita'].median()"
   ]
  },
  {
   "cell_type": "code",
   "execution_count": 82,
   "id": "76b63df1-db04-4f15-8ec3-76ac129677da",
   "metadata": {},
   "outputs": [
    {
     "name": "stdout",
     "output_type": "stream",
     "text": [
      "15309.23598817024\n"
     ]
    }
   ],
   "source": [
    "print(median_twenty_twenty_gdp)"
   ]
  },
  {
   "cell_type": "markdown",
   "id": "9cb90476-e83e-4e0a-8bb7-2ae2daf3fc46",
   "metadata": {},
   "source": [
    "10. For this question, you're going to create some visualizations to compare GDP per capita values for the years 1990, 2000, 2010, and 2020. Start by subsetting your data to just these 4 years into a new DataFrame named gdp_decades. Using this, create the following 4 plots: A boxplot"
   ]
  },
  {
   "cell_type": "code",
   "execution_count": 85,
   "id": "9afa2d12-6246-4b07-bfe1-6b492308ec3e",
   "metadata": {},
   "outputs": [],
   "source": [
    "gdp_decades = cleaned_gdp_df[cleaned_gdp_df['Year'].isin([1990,2000,2010,2020])]"
   ]
  },
  {
   "cell_type": "code",
   "execution_count": 87,
   "id": "eb092089-edd9-4168-b3e2-85bbda30580d",
   "metadata": {},
   "outputs": [
    {
     "name": "stdout",
     "output_type": "stream",
     "text": [
      "                          Country  Year  GDP_Per-Capita\n",
      "3                     Afghanistan  2020     2769.685745\n",
      "13                    Afghanistan  2010     2848.586061\n",
      "23                    Afghanistan  2000     1617.826475\n",
      "27    Africa Eastern and Southern  2020     3861.111238\n",
      "37    Africa Eastern and Southern  2010     3863.836012\n",
      "...                           ...   ...             ...\n",
      "8184                       Zambia  1990     2425.111287\n",
      "8188                     Zimbabwe  2020     2987.269823\n",
      "8198                     Zimbabwe  2010     2572.769992\n",
      "8208                     Zimbabwe  2000     4071.022001\n",
      "8218                     Zimbabwe  1990     4013.299059\n",
      "\n",
      "[965 rows x 3 columns]\n"
     ]
    }
   ],
   "source": [
    "print(gdp_decades)"
   ]
  },
  {
   "cell_type": "markdown",
   "id": "6aaf4725-7b6d-473d-be3d-f800be3675aa",
   "metadata": {},
   "source": [
    "* A barplot (check out the Barplot with Seaborn section: https://www.python-graph-gallery.com/barplot/#Seaborn)"
   ]
  },
  {
   "cell_type": "code",
   "execution_count": 90,
   "id": "8a7c9d5a-3a2f-4812-811e-33eaf9184d61",
   "metadata": {},
   "outputs": [
    {
     "data": {
      "text/plain": [
       "<Axes: xlabel='Year', ylabel='GDP_Per-Capita'>"
      ]
     },
     "execution_count": 90,
     "metadata": {},
     "output_type": "execute_result"
    },
    {
     "data": {
      "image/png": "[encoded data removed]",
      "text/plain": [
       "<Figure size 640x480 with 1 Axes>"
      ]
     },
     "metadata": {},
     "output_type": "display_data"
    }
   ],
   "source": [
    "sns.barplot(data=gdp_decades,x='Year',y='GDP_Per-Capita')"
   ]
  },
  {
   "cell_type": "markdown",
   "id": "d8a71e5f-0760-40ae-b901-6078e708f163",
   "metadata": {},
   "source": [
    "* A scatterplot"
   ]
  },
  {
   "cell_type": "code",
   "execution_count": 93,
   "id": "f5ce290d-19bc-43f0-ae61-4de61a185a63",
   "metadata": {},
   "outputs": [
    {
     "data": {
      "text/plain": [
       "<Axes: xlabel='Year', ylabel='GDP_Per-Capita'>"
      ]
     },
     "execution_count": 93,
     "metadata": {},
     "output_type": "execute_result"
    },
    {
     "data": {
      "image/png": "[encoded data removed]",
      "text/plain": [
       "<Figure size 640x480 with 1 Axes>"
      ]
     },
     "metadata": {},
     "output_type": "display_data"
    }
   ],
   "source": [
    "sns.scatterplot(data=gdp_decades, x = 'Year',y = 'GDP_Per-Capita')"
   ]
  },
  {
   "cell_type": "markdown",
   "id": "a4622373-6976-4be5-9b3f-7b9e918d883e",
   "metadata": {},
   "source": [
    "* A scatterplot with a trend line overlaid (see this regplot example: https://www.python-graph-gallery.com/42-custom-linear-regression-fit-seaborn)  "
   ]
  },
  {
   "cell_type": "code",
   "execution_count": 96,
   "id": "3537d413-ab7f-4f2f-9dda-85dc8d51a2c8",
   "metadata": {},
   "outputs": [
    {
     "ename": "SyntaxError",
     "evalue": "incomplete input (2174858010.py, line 1)",
     "output_type": "error",
     "traceback": [
      "\u001b[1;36m  Cell \u001b[1;32mIn[96], line 1\u001b[1;36m\u001b[0m\n\u001b[1;33m    sns.scatterplot(data=gdp_decades, x = 'Year',y = 'GDP_Per-Capita', line_kws={\"color\":\"red\",\"linewidth\":1.5}\u001b[0m\n\u001b[1;37m                                                                                                               ^\u001b[0m\n\u001b[1;31mSyntaxError\u001b[0m\u001b[1;31m:\u001b[0m incomplete input\n"
     ]
    }
   ],
   "source": [
    "sns.scatterplot(data=gdp_decades, x = 'Year',y = 'GDP_Per-Capita', line_kws={\"color\":\"red\",\"linewidth\":1.5}"
   ]
  },
  {
   "cell_type": "markdown",
   "id": "bdf0db34-f9ac-4c6d-af00-f32f2dcaf989",
   "metadata": {},
   "source": [
    "Comment on what you observe has happened to GDP values over time and the relative strengths and weaknesses of each type of plot."
   ]
  },
  {
   "cell_type": "code",
   "execution_count": null,
   "id": "213d794d-153a-4eae-b707-3b477f8cc1c0",
   "metadata": {},
   "outputs": [],
   "source": []
  },
  {
   "cell_type": "markdown",
   "id": "7ff86ad2-755b-4e2b-abe6-fe7cd4763959",
   "metadata": {},
   "source": [
    "11. Which country was the first to have a GDP per capita greater than $100,000?"
   ]
  },
  {
   "cell_type": "code",
   "execution_count": 101,
   "id": "2ac1ddbf-b312-4570-be95-db6d79731f14",
   "metadata": {},
   "outputs": [],
   "source": [
    "gdp_hundredk = cleaned_gdp_df[(cleaned_gdp_df['GDP_Per-Capita'] > 100000)]"
   ]
  },
  {
   "cell_type": "code",
   "execution_count": 103,
   "id": "f096cc1d-c2f0-4d91-acd0-d7795735ad63",
   "metadata": {},
   "outputs": [],
   "source": [
    "gdp_hundredk_filtered = gdp_hundredk.sort_values(by=['Year'], ascending=[True])"
   ]
  },
  {
   "cell_type": "code",
   "execution_count": 105,
   "id": "0f479bc4-d0ba-4921-ad00-bdeb2fceeff2",
   "metadata": {},
   "outputs": [
    {
     "name": "stdout",
     "output_type": "stream",
     "text": [
      "                   Country  Year  GDP_Per-Capita\n",
      "7827  United Arab Emirates  1990   108057.042464\n",
      "974                 Brunei  1990   118163.683198\n",
      "7826  United Arab Emirates  1991   103098.537132\n",
      "973                 Brunei  1991   118220.683619\n",
      "7825  United Arab Emirates  1992   101100.487512\n",
      "...                    ...   ...             ...\n",
      "6116                 Qatar  2023   116159.142559\n",
      "4457      Macao SAR, China  2023   104961.643485\n",
      "6511             Singapore  2023   127543.554752\n",
      "4423            Luxembourg  2023   130373.477942\n",
      "3490               Ireland  2023   115401.125283\n",
      "\n",
      "[106 rows x 3 columns]\n"
     ]
    }
   ],
   "source": [
    "print(gdp_hundredk_filtered)"
   ]
  },
  {
   "cell_type": "markdown",
   "id": "fc1f16e3-d056-4267-b6a0-1867b40c6267",
   "metadata": {},
   "source": [
    "12. Which country had the highest GDP per capita in 2020? Create a plot showing how this country's GDP per capita has changed over the timespan of the dataset."
   ]
  },
  {
   "cell_type": "code",
   "execution_count": 108,
   "id": "c692131f-7e53-4a61-8f45-f1b30f4baf60",
   "metadata": {},
   "outputs": [],
   "source": [
    "sorted_twentytwenty_df= twentytwentydf.sort_values(by=\"GDP_Per-Capita\", ascending=False)"
   ]
  },
  {
   "cell_type": "code",
   "execution_count": 110,
   "id": "4e4454f8-9557-41e6-9eaa-dbdf3c7d68c0",
   "metadata": {},
   "outputs": [
    {
     "name": "stdout",
     "output_type": "stream",
     "text": [
      "                       Country  Year  GDP_Per-Capita\n",
      "4426                Luxembourg  2020   128256.560341\n",
      "6514                 Singapore  2020   115304.149459\n",
      "6119                     Qatar  2020   103061.913414\n",
      "3493                   Ireland  2020   102989.787335\n",
      "741                    Bermuda  2020    87894.401174\n",
      "...                        ...   ...             ...\n",
      "5133                Mozambique  2020     1466.124765\n",
      "6699                   Somalia  2020     1396.053436\n",
      "1734           Dem. Rep. Congo  2020     1277.632863\n",
      "1302  Central African Republic  2020     1136.570530\n",
      "1046                   Burundi  2020      833.920257\n",
      "\n",
      "[247 rows x 3 columns]\n"
     ]
    }
   ],
   "source": [
    "print(sorted_twentytwenty_df)"
   ]
  },
  {
   "cell_type": "code",
   "execution_count": 112,
   "id": "6cd2cf97-f78e-44df-a3d7-14f537feb3a0",
   "metadata": {},
   "outputs": [],
   "source": [
    "gdp_luxembourg = cleaned_gdp_df[cleaned_gdp_df['Country']==\"Luxembourg\"]"
   ]
  },
  {
   "cell_type": "code",
   "execution_count": 114,
   "id": "ca25a0de-3828-48a7-bd17-7f3be3528d02",
   "metadata": {},
   "outputs": [
    {
     "data": {
      "text/plain": [
       "<Axes: xlabel='Year', ylabel='GDP_Per-Capita'>"
      ]
     },
     "execution_count": 114,
     "metadata": {},
     "output_type": "execute_result"
    },
    {
     "data": {
      "image/png": "[encoded data removed]",
      "text/plain": [
       "<Figure size 640x480 with 1 Axes>"
      ]
     },
     "metadata": {},
     "output_type": "display_data"
    }
   ],
   "source": [
    "sns.barplot(data=gdp_luxembourg,x='Year',y='GDP_Per-Capita')"
   ]
  },
  {
   "cell_type": "markdown",
   "id": "1da8ead9-83a5-447d-9925-28470d5ac4dc",
   "metadata": {},
   "source": [
    "13. Which country had the lowest GDP per capita in 2020? Create a plot showing how this country's GDP per capita has changed over the timespan of the dataset. **Bonus question:** Is it true in general that coutries had a higher GDP per capita in 2020 than in 1990? Which countries had lower GDP per capita in 2020 than in 1990?"
   ]
  },
  {
   "cell_type": "code",
   "execution_count": 117,
   "id": "854e95ae-11b3-4333-92fc-a22c7fd3a680",
   "metadata": {},
   "outputs": [],
   "source": [
    "sorted_asc_twentytwenty_df = twentytwentydf.sort_values(by='GDP_Per-Capita')"
   ]
  },
  {
   "cell_type": "code",
   "execution_count": 119,
   "id": "624201dd-5295-454e-925b-dd29fc6e9eb0",
   "metadata": {},
   "outputs": [
    {
     "name": "stdout",
     "output_type": "stream",
     "text": [
      "                       Country  Year  GDP_Per-Capita\n",
      "1046                   Burundi  2020      833.920257\n",
      "1302  Central African Republic  2020     1136.570530\n",
      "1734           Dem. Rep. Congo  2020     1277.632863\n",
      "6699                   Somalia  2020     1396.053436\n",
      "5133                Mozambique  2020     1466.124765\n",
      "...                        ...   ...             ...\n",
      "741                    Bermuda  2020    87894.401174\n",
      "3493                   Ireland  2020   102989.787335\n",
      "6119                     Qatar  2020   103061.913414\n",
      "6514                 Singapore  2020   115304.149459\n",
      "4426                Luxembourg  2020   128256.560341\n",
      "\n",
      "[247 rows x 3 columns]\n"
     ]
    }
   ],
   "source": [
    "print(sorted_asc_twentytwenty_df)"
   ]
  },
  {
   "cell_type": "code",
   "execution_count": 121,
   "id": "c1a7eedc-645e-4d46-864d-3aca80a0c667",
   "metadata": {},
   "outputs": [],
   "source": [
    "gdp_burundi = cleaned_gdp_df[cleaned_gdp_df['Country'] == 'Burundi']"
   ]
  },
  {
   "cell_type": "code",
   "execution_count": 125,
   "id": "f1d745d2-e604-45c2-bf8a-b2eefd6b3127",
   "metadata": {},
   "outputs": [
    {
     "data": {
      "text/plain": [
       "<Axes: xlabel='Year', ylabel='GDP_Per-Capita'>"
      ]
     },
     "execution_count": 125,
     "metadata": {},
     "output_type": "execute_result"
    },
    {
     "data": {
      "image/png": "[encoded data removed]",
      "text/plain": [
       "<Figure size 640x480 with 1 Axes>"
      ]
     },
     "metadata": {},
     "output_type": "display_data"
    }
   ],
   "source": [
    "sns.barplot(data=gdp_burundi,x='Year',y='GDP_Per-Capita')"
   ]
  },
  {
   "cell_type": "markdown",
   "id": "4360dada-1162-45c9-970f-2dd301e8e8ff",
   "metadata": {},
   "source": [
    "14. Read in the internet use dataset into a DataFrame named `internet_df`. You will likely get errors when doing this. Check the arguments for the read_csv function to find ones that can help correct the errors (https://pandas.pydata.org/docs/reference/api/pandas.read_csv.html) Once you are able to read it in, take per a look at the top and bottom few rows to make sure that it has been read in correctly. Also, check the datatypes of the columns."
   ]
  },
  {
   "cell_type": "code",
   "execution_count": 149,
   "id": "96150362-811c-4f05-a065-83c02060b015",
   "metadata": {},
   "outputs": [],
   "source": [
    "internet_df = pd.read_csv('../data/internet_use.csv')"
   ]
  },
  {
   "cell_type": "code",
   "execution_count": 151,
   "id": "9e8e7e4b-8171-451e-9c2d-2741af9cf808",
   "metadata": {},
   "outputs": [
    {
     "name": "stdout",
     "output_type": "stream",
     "text": [
      "     Country or Area  Year      Value Value Footnotes\n",
      "0        Afghanistan  2019  17.600000               1\n",
      "1        Afghanistan  2018  16.800000               2\n",
      "2        Afghanistan  2017  13.500000               3\n",
      "3        Afghanistan  2016  11.000000               4\n",
      "4        Afghanistan  2015   8.260000               4\n",
      "...              ...   ...        ...             ...\n",
      "6078        Zimbabwe  1997   0.033080             NaN\n",
      "6079        Zimbabwe  1996   0.016790             NaN\n",
      "6080        Zimbabwe  1995   0.007684             NaN\n",
      "6081        Zimbabwe  1994   0.001739             NaN\n",
      "6082        Zimbabwe  1990   0.000000             NaN\n",
      "\n",
      "[6083 rows x 4 columns]\n"
     ]
    }
   ],
   "source": [
    "print(internet_df)"
   ]
  },
  {
   "cell_type": "markdown",
   "id": "831762b5-3c43-43ca-b673-4332006a188c",
   "metadata": {},
   "source": [
    "15. Drop the `Value Footnotes` column and rename the remaining three to 'Country', 'Year', and 'Internet_Users_Pct'."
   ]
  },
  {
   "cell_type": "code",
   "execution_count": 159,
   "id": "3870061c-5f6e-4435-9666-795b0a5660a2",
   "metadata": {},
   "outputs": [],
   "source": [
    "renamed_internet_df=internet_df.rename(columns={'Country or Area':'Country', 'Year':'Year', 'Value':'Internet_Users_Pct'})"
   ]
  },
  {
   "cell_type": "code",
   "execution_count": 161,
   "id": "ca7a1985-8b2f-4b3e-bd8e-c91117268b0f",
   "metadata": {},
   "outputs": [],
   "source": [
    "cleaned_internet_df=renamed_internet_df.drop('Value Footnotes', axis = 1)"
   ]
  },
  {
   "cell_type": "code",
   "execution_count": 163,
   "id": "8b847645-4ade-43e4-9836-d800888064c4",
   "metadata": {},
   "outputs": [
    {
     "name": "stdout",
     "output_type": "stream",
     "text": [
      "          Country  Year  Internet_Users_Pct\n",
      "0     Afghanistan  2019           17.600000\n",
      "1     Afghanistan  2018           16.800000\n",
      "2     Afghanistan  2017           13.500000\n",
      "3     Afghanistan  2016           11.000000\n",
      "4     Afghanistan  2015            8.260000\n",
      "...           ...   ...                 ...\n",
      "6078     Zimbabwe  1997            0.033080\n",
      "6079     Zimbabwe  1996            0.016790\n",
      "6080     Zimbabwe  1995            0.007684\n",
      "6081     Zimbabwe  1994            0.001739\n",
      "6082     Zimbabwe  1990            0.000000\n",
      "\n",
      "[6083 rows x 3 columns]\n"
     ]
    }
   ],
   "source": [
    "print(cleaned_internet_df)"
   ]
  },
  {
   "cell_type": "markdown",
   "id": "15492fe3-2e13-4850-95f7-a5274d6dced6",
   "metadata": {},
   "source": [
    "16. Look at the number of observations in this dataset per year. What do you notice?"
   ]
  },
  {
   "cell_type": "code",
   "execution_count": 165,
   "id": "48579b2a-82cc-4a7f-b9ea-e48aed8c754b",
   "metadata": {},
   "outputs": [],
   "source": [
    "internet_count_per_year = cleaned_internet_df['Year'].value_counts()"
   ]
  },
  {
   "cell_type": "code",
   "execution_count": 167,
   "id": "e70eed05-224b-491e-a32f-20f8c669e505",
   "metadata": {},
   "outputs": [
    {
     "name": "stdout",
     "output_type": "stream",
     "text": [
      "Year\n",
      "1990    226\n",
      "2007    217\n",
      "2011    214\n",
      "2008    214\n",
      "2009    214\n",
      "2002    214\n",
      "2006    212\n",
      "2001    212\n",
      "2005    212\n",
      "2004    210\n",
      "2000    210\n",
      "2010    209\n",
      "2012    209\n",
      "2003    208\n",
      "1999    207\n",
      "2016    206\n",
      "2017    205\n",
      "2014    204\n",
      "2015    203\n",
      "2013    203\n",
      "1998    195\n",
      "1997    188\n",
      "2021    186\n",
      "2020    186\n",
      "2019    185\n",
      "2022    184\n",
      "1996    177\n",
      "2018    174\n",
      "1995    141\n",
      "1994     92\n",
      "1993     66\n",
      "1992     50\n",
      "1991     39\n",
      "2023     11\n",
      "Name: count, dtype: int64\n"
     ]
    }
   ],
   "source": [
    "print(internet_count_per_year)"
   ]
  },
  {
   "cell_type": "markdown",
   "id": "2456e011-76ee-41a5-b19f-221a4494c3f1",
   "metadata": {},
   "source": [
    "17. What is the first year to have a non-zero internet users percentage value?"
   ]
  },
  {
   "cell_type": "code",
   "execution_count": 169,
   "id": "d9c1d505-c801-45bf-85f2-61aef32a1a05",
   "metadata": {},
   "outputs": [],
   "source": [
    "sorted_internet_use_df= cleaned_internet_df.sort_values(by=\"Internet_Users_Pct\", ascending=True)"
   ]
  },
  {
   "cell_type": "code",
   "execution_count": 171,
   "id": "5798a8ed-ac72-42a6-8a65-e81675fe1972",
   "metadata": {},
   "outputs": [
    {
     "name": "stdout",
     "output_type": "stream",
     "text": [
      "                   Country  Year  Internet_Users_Pct\n",
      "6082              Zimbabwe  1990                 0.0\n",
      "5585               Tunisia  1990                 0.0\n",
      "1861              Eswatini  1990                 0.0\n",
      "5617               Türkiye  1990                 0.0\n",
      "454             Bangladesh  1990                 0.0\n",
      "...                    ...   ...                 ...\n",
      "4791          Saudi Arabia  2021               100.0\n",
      "5716  United Arab Emirates  2022               100.0\n",
      "5717  United Arab Emirates  2021               100.0\n",
      "5718  United Arab Emirates  2020               100.0\n",
      "399                Bahrain  2021               100.0\n",
      "\n",
      "[6083 rows x 3 columns]\n"
     ]
    }
   ],
   "source": [
    "print(sorted_internet_use_df)"
   ]
  },
  {
   "cell_type": "code",
   "execution_count": 173,
   "id": "2153c196-b2c0-466c-abab-7e4ae2ce3e59",
   "metadata": {},
   "outputs": [],
   "source": [
    "sorted_internet_use_non_zero_df = sorted_internet_use_df[sorted_internet_use_df['Internet_Users_Pct']>0.0001]"
   ]
  },
  {
   "cell_type": "code",
   "execution_count": 175,
   "id": "aa359c99-1eaa-452f-90f9-cf1881cc6a4b",
   "metadata": {},
   "outputs": [
    {
     "name": "stdout",
     "output_type": "stream",
     "text": [
      "                               Country  Year  Internet_Users_Pct\n",
      "1535  Democratic Republic of the Congo  1996            0.000108\n",
      "2646                             India  1992            0.000111\n",
      "4252                          Pakistan  1995            0.000123\n",
      "5955                          Viet Nam  1996            0.000135\n",
      "2441                            Guinea  1994            0.000138\n",
      "...                                ...   ...                 ...\n",
      "4791                      Saudi Arabia  2021          100.000000\n",
      "5716              United Arab Emirates  2022          100.000000\n",
      "5717              United Arab Emirates  2021          100.000000\n",
      "5718              United Arab Emirates  2020          100.000000\n",
      "399                            Bahrain  2021          100.000000\n",
      "\n",
      "[5800 rows x 3 columns]\n"
     ]
    }
   ],
   "source": [
    "print(sorted_internet_use_non_zero_df)"
   ]
  },
  {
   "cell_type": "code",
   "execution_count": 177,
   "id": "df14d48c-3e76-4d0e-8e64-4960b56bc457",
   "metadata": {},
   "outputs": [],
   "source": [
    "sorted_internet_use_non_zero_complete_df= sorted_internet_use_non_zero_df.sort_values(by=\"Year\", ascending=True)"
   ]
  },
  {
   "cell_type": "code",
   "execution_count": 179,
   "id": "73c32848-4f4d-4bb6-a428-c2b027eeb193",
   "metadata": {},
   "outputs": [
    {
     "name": "stdout",
     "output_type": "stream",
     "text": [
      "                     Country  Year  Internet_Users_Pct\n",
      "2192                 Germany  1990            0.125892\n",
      "2001                 Finland  1990            0.401088\n",
      "5299                  Sweden  1990            0.584192\n",
      "339                  Austria  1990            0.130369\n",
      "3054    Korea (Republic  of)  1990            0.023265\n",
      "...                      ...   ...                 ...\n",
      "5586                 Türkiye  2023           85.960700\n",
      "340               Azerbaijan  2023           88.000000\n",
      "1656                 Ecuador  2023           72.694300\n",
      "3057                  Kuwait  2023           99.747300\n",
      "677   Bosnia and Herzegovina  2023           83.377200\n",
      "\n",
      "[5800 rows x 3 columns]\n"
     ]
    }
   ],
   "source": [
    "print(sorted_internet_use_non_zero_complete_df)"
   ]
  },
  {
   "cell_type": "markdown",
   "id": "d0be199f-7afd-48c1-ba7a-5f860ff2c90f",
   "metadata": {},
   "source": [
    "18. How does the distribution of internet users percent differ for 2000 and 2014?"
   ]
  },
  {
   "cell_type": "code",
   "execution_count": 183,
   "id": "78cbfd5e-3a93-43af-87e9-f4a7b7b83118",
   "metadata": {},
   "outputs": [],
   "source": [
    "internet_use_twothousand_twentyfourteen_df = cleaned_internet_df[cleaned_internet_df['Year'].isin([2000,2014])]"
   ]
  },
  {
   "cell_type": "code",
   "execution_count": 185,
   "id": "7014fa35-cece-45fb-a5af-72f274d28a9c",
   "metadata": {},
   "outputs": [
    {
     "name": "stdout",
     "output_type": "stream",
     "text": [
      "          Country  Year  Internet_Users_Pct\n",
      "5     Afghanistan  2014            7.000000\n",
      "28        Albania  2014           54.300000\n",
      "42        Albania  2000            0.114097\n",
      "57        Algeria  2014           29.500000\n",
      "71        Algeria  2000            0.491706\n",
      "...           ...   ...                 ...\n",
      "6017        Yemen  2000            0.082500\n",
      "6031       Zambia  2014            6.500000\n",
      "6045       Zambia  2000            0.191072\n",
      "6061     Zimbabwe  2014           16.364700\n",
      "6075     Zimbabwe  2000            0.401434\n",
      "\n",
      "[414 rows x 3 columns]\n"
     ]
    }
   ],
   "source": [
    "print(internet_use_twothousand_twentyfourteen_df)"
   ]
  },
  {
   "cell_type": "code",
   "execution_count": 187,
   "id": "06b46f94-c082-467d-8a38-4f872c24fce5",
   "metadata": {},
   "outputs": [
    {
     "data": {
      "text/plain": [
       "<Axes: xlabel='Year', ylabel='Internet_Users_Pct'>"
      ]
     },
     "execution_count": 187,
     "metadata": {},
     "output_type": "execute_result"
    },
    {
     "data": {
      "image/png": "[encoded data removed]",
      "text/plain": [
       "<Figure size 640x480 with 1 Axes>"
      ]
     },
     "metadata": {},
     "output_type": "display_data"
    }
   ],
   "source": [
    "sns.barplot(data=internet_use_twothousand_twentyfourteen_df,x='Year',y='Internet_Users_Pct')"
   ]
  },
  {
   "cell_type": "markdown",
   "id": "0700b74d-9800-4f53-8117-26cd46939f03",
   "metadata": {},
   "source": [
    "19. For how many countries was the percentage of internet users below 5% in 2014?"
   ]
  },
  {
   "cell_type": "code",
   "execution_count": null,
   "id": "3f304e87-f91d-40c4-9f08-4e4d11474991",
   "metadata": {},
   "outputs": [],
   "source": []
  },
  {
   "cell_type": "markdown",
   "id": "86c14d1c-436b-483f-bdd7-b43f612eb1ae",
   "metadata": {},
   "source": [
    "20. Merge the two DataFrames to one. Do this in a way that keeps **all rows** from each of the two DataFrames. Call the new DataFrame `gdp_and_internet_use`. Look at the first and last few rows to confirm that it merged correctly."
   ]
  },
  {
   "cell_type": "code",
   "execution_count": null,
   "id": "f3a7628e-6b9c-42f1-9042-5495cdfd0ae6",
   "metadata": {},
   "outputs": [],
   "source": []
  },
  {
   "cell_type": "markdown",
   "id": "47de3f71-1a6a-4ff2-a70a-cee4801273b0",
   "metadata": {},
   "source": [
    "21. Find the three countries with the highest internet users percentage in 2014. Use a seaborn FacetGrid (https://seaborn.pydata.org/generated/seaborn.FacetGrid.html) to compare how the GDP per capita has changed over time for these three countries. What do you notice?\n"
   ]
  },
  {
   "cell_type": "code",
   "execution_count": null,
   "id": "a51f33c7-39e3-4750-b727-8a471f3ccba6",
   "metadata": {},
   "outputs": [],
   "source": []
  },
  {
   "cell_type": "markdown",
   "id": "05ff5a3d-08e7-490e-a88e-fbb59a3bbb32",
   "metadata": {},
   "source": [
    "22. Subset `gdp_and_internet_use` to just the year 2014. Save this as a new dataframe named `gdp_and_internet_use_2014`"
   ]
  },
  {
   "cell_type": "code",
   "execution_count": null,
   "id": "8c715dac-0bad-4a73-b710-692e0a07e488",
   "metadata": {},
   "outputs": [],
   "source": []
  },
  {
   "cell_type": "markdown",
   "id": "df2024f2-179f-4c5e-9e55-f782e0b43194",
   "metadata": {},
   "source": [
    "23. Create a plot which compares Internet Users Percentage and GDP per Capita for the year 2014. What do you notice from this plot? If you see any unusual points, investigate them."
   ]
  },
  {
   "cell_type": "code",
   "execution_count": null,
   "id": "18320c4a-4bab-476e-97df-c2a4917615d0",
   "metadata": {},
   "outputs": [],
   "source": []
  },
  {
   "cell_type": "markdown",
   "id": "31700312-9b3b-43ff-b760-10fffeb27e49",
   "metadata": {},
   "source": [
    "24. **Stretch Question:** Use the `qcut` function from pandas (https://pandas.pydata.org/docs/reference/api/pandas.qcut.html) to divide countries in `gdp_per_capita_2014` into three groups based on their GDP per capita values. Label these groups as \"Low\", \"Medium\", and \"High\". Put these labels in a new column, named \"GDP_group\"."
   ]
  },
  {
   "cell_type": "code",
   "execution_count": null,
   "id": "6a3ee228-5ca7-4169-8a01-6b8a58a87783",
   "metadata": {},
   "outputs": [],
   "source": []
  },
  {
   "cell_type": "markdown",
   "id": "a472af2a-2621-47f6-b3dc-8c794ca3ca7f",
   "metadata": {},
   "source": [
    "25. **Stretch Question:** How does the median internet users percentage compare for the three gdp groups?"
   ]
  },
  {
   "cell_type": "code",
   "execution_count": null,
   "id": "e0fa4cb2-173d-44d5-a5d0-40f4cac17b02",
   "metadata": {},
   "outputs": [],
   "source": []
  },
  {
   "cell_type": "markdown",
   "id": "4cac8382-36a9-4af7-bc21-e558da8aed73",
   "metadata": {},
   "source": [
    "### Bonus exercise:\n",
    "1.    Download another data set from the UN data (http://data.un.org/Explorer.aspx) to merge with your data and explore.\n"
   ]
  },
  {
   "cell_type": "code",
   "execution_count": null,
   "id": "02c96341-67be-49ae-b0af-da90946242bd",
   "metadata": {},
   "outputs": [],
   "source": []
  },
  {
   "cell_type": "markdown",
   "id": "52104b3b-164e-4bc2-af28-d88d2455be02",
   "metadata": {},
   "source": []
  },
  {
   "cell_type": "code",
   "execution_count": null,
   "id": "dc20ac17-ca0d-44c0-92ba-2717d48d51d8",
   "metadata": {},
   "outputs": [],
   "source": []
  },
  {
   "cell_type": "markdown",
   "id": "a9466c21-c50b-47b7-a37a-3c67c8a72be9",
   "metadata": {},
   "source": []
  }
 ],
 "metadata": {
  "kernelspec": {
   "display_name": "Python [conda env:base] *",
   "language": "python",
   "name": "conda-base-py"
  },
  "language_info": {
   "codemirror_mode": {
    "name": "ipython",
    "version": 3
   },
   "file_extension": ".py",
   "mimetype": "text/x-python",
   "name": "python",
   "nbconvert_exporter": "python",
   "pygments_lexer": "ipython3",
   "version": "3.12.7"
  }
 },
 "nbformat": 4,
 "nbformat_minor": 5
}
